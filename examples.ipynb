{
 "cells": [
  {
   "cell_type": "code",
   "execution_count": 1,
   "metadata": {
    "scrolled": false
   },
   "outputs": [
    {
     "data": {
      "text/plain": [
       "{'brand': 'Intel(R) Core(TM) i7-3770K CPU @ 3.50GHz',\n",
       " 'clock': 1729.01325,\n",
       " 'clock_max': 3900.0,\n",
       " 'clock_min': 1600.0,\n",
       " 'logical_cores': 8,\n",
       " 'physical_cores': 4}"
      ]
     },
     "execution_count": 1,
     "metadata": {},
     "output_type": "execute_result"
    }
   ],
   "source": [
    "from system_query import query_cpu\n",
    "query_cpu()"
   ]
  },
  {
   "cell_type": "code",
   "execution_count": 2,
   "metadata": {
    "scrolled": false
   },
   "outputs": [
    {
     "data": {
      "text/plain": [
       "[{'brand': 'GeForce GTX 580',\n",
       "  'clock': 1544000,\n",
       "  'compute_capability': 2.0,\n",
       "  'cores': 512,\n",
       "  'memory': 1543766016,\n",
       "  'memory_clock': 2004000,\n",
       "  'multiprocessors': 16,\n",
       "  'warp_size': 32}]"
      ]
     },
     "execution_count": 2,
     "metadata": {},
     "output_type": "execute_result"
    }
   ],
   "source": [
    "from system_query import query_gpus\n",
    "query_gpus()"
   ]
  },
  {
   "cell_type": "code",
   "execution_count": 3,
   "metadata": {
    "scrolled": false
   },
   "outputs": [
    {
     "data": {
      "text/plain": [
       "{'cpu': {'brand': 'Intel(R) Core(TM) i7-3770K CPU @ 3.50GHz',\n",
       "  'clock': 1825.211875,\n",
       "  'clock_max': 3900.0,\n",
       "  'clock_min': 1600.0,\n",
       "  'logical_cores': 8,\n",
       "  'physical_cores': 4},\n",
       " 'gpus': [{'brand': 'GeForce GTX 580',\n",
       "   'clock': 1544000,\n",
       "   'compute_capability': 2.0,\n",
       "   'cores': 512,\n",
       "   'memory': 1543766016,\n",
       "   'memory_clock': 2004000,\n",
       "   'multiprocessors': 16,\n",
       "   'warp_size': 32}],\n",
       " 'host': 'mbLab',\n",
       " 'os': 'Linux-4.4.0-78-generic-x86_64-with-debian-stretch-sid',\n",
       " 'ram': {'banks': [], 'total': 33701339136},\n",
       " 'swap': 0}"
      ]
     },
     "execution_count": 3,
     "metadata": {},
     "output_type": "execute_result"
    }
   ],
   "source": [
    "from system_query import query_all\n",
    "query_all()"
   ]
  }
 ],
 "metadata": {
  "kernelspec": {
   "display_name": "Python 3",
   "language": "python",
   "name": "python3"
  },
  "language_info": {
   "codemirror_mode": {
    "name": "ipython",
    "version": 3
   },
   "file_extension": ".py",
   "mimetype": "text/x-python",
   "name": "python",
   "nbconvert_exporter": "python",
   "pygments_lexer": "ipython3",
   "version": "3.6.1"
  }
 },
 "nbformat": 4,
 "nbformat_minor": 2
}
